{
 "cells": [
  {
   "cell_type": "markdown",
   "metadata": {},
   "source": [
    "# Name: Azizul Kawser\n",
    "# Student ID: 2207846"
   ]
  },
  {
   "cell_type": "markdown",
   "metadata": {},
   "source": [
    "## Exercise 1\n",
    "1) Write a full graph of 20 nodes where from each node, there is a link to one to six other nodes, taken at random, of your choice.Use a labelling of your choice to label each node of the network.  \n",
    "a) -  Use a visualization tool to display the graph (OK)      \n",
    "b) -  Use a visualization of your choice to display the nodes each node is linked to  \n",
    "c) -  Calculate the degree of each node and the average degree of the graph  (use appropriate functions in NetworkX) and display their values  \n",
    "d) - Test other centrality measures available in NetworkX and display their values, and store the centrality values in a vector  \n",
    "e) - write a script that randomly removes one edge from the above graph  \n",
    "- Repeat the process a)-d)  until the number of edges in the graph is equal to one.  \n",
    "f) repeat e) .. until the number of edges in the graph is one.  \n",
    "g ) Display a graph showing the variations of the various centrality measures as a function of the number of \n",
    "edges in the graph."
   ]
  },
  {
   "cell_type": "code",
   "execution_count": null,
   "metadata": {},
   "outputs": [],
   "source": [
    "#import required libraries\n",
    "import networkx as nx\n",
    "import random\n",
    "import matplotlib.pyplot as plt\n",
    "\n",
    "#initialize an empty graph\n",
    "G = nx.Graph()\n",
    "\n",
    "# Add 20 nodes with random labels\n",
    "for i in range(20):\n",
    "    G.add_node(i, label='Node {}'.format(i))\n",
    "\n",
    "# Add random edges to each node\n",
    "for node in G.nodes():\n",
    "    num_edges = random.randint(1, 6)  # choose random number of edges\n",
    "    for i in range(num_edges):\n",
    "        neighbor = random.choice(list(G.nodes()))  # choose random neighbor\n",
    "        while neighbor == node or G.has_edge(node, neighbor):\n",
    "            neighbor = random.choice(list(G.nodes()))  # avoid self-loops and duplicates\n",
    "        G.add_edge(node, neighbor)"
   ]
  },
  {
   "cell_type": "code",
   "execution_count": null,
   "metadata": {},
   "outputs": [],
   "source": [
    "G.nodes(data=True)"
   ]
  },
  {
   "cell_type": "markdown",
   "metadata": {},
   "source": [
    "### Use a visualization tool to display the graph. Use a visualization of your choice to display the nodes each node is linked to"
   ]
  },
  {
   "cell_type": "code",
   "execution_count": null,
   "metadata": {},
   "outputs": [],
   "source": [
    "# display the graph\n",
    "nx.draw(G, with_labels = True)\n",
    "plt.show()"
   ]
  },
  {
   "cell_type": "markdown",
   "metadata": {},
   "source": [
    "### Calculate the degree of each node and the average degree of the graph  (use appropriate functions in NetworkX) and display their values"
   ]
  },
  {
   "cell_type": "code",
   "execution_count": null,
   "metadata": {},
   "outputs": [],
   "source": [
    "# Calculate the number of edges\n",
    "print('Number of Edges : ',G.number_of_edges())\n",
    "# Calculate the number of nodes\n",
    "print('Number of Nodes : ',G.number_of_nodes())\n",
    "# show the graph degree\n",
    "print('Graph degrees:', G.degree())\n",
    "#calculate the avg degree connectivity\n",
    "print('Avg degree connectivity: ',nx.average_degree_connectivity(G))"
   ]
  },
  {
   "cell_type": "code",
   "execution_count": null,
   "metadata": {},
   "outputs": [],
   "source": [
    "def analyze_graph(graph):\n",
    "    print(f'Edges: {graph.number_of_edges()}, Nodes: {graph.number_of_nodes()}')\n",
    "    print(f'Graph degrees: {graph.degree}')\n",
    "    print(f'Average degree: {sum(dict(graph.degree()).values()) / len(graph)}')\n",
    "\n",
    "analyze_graph(G)"
   ]
  },
  {
   "cell_type": "markdown",
   "metadata": {},
   "source": [
    "### Test other centrality measures available in NetworkX and display their values, and store the centrality values in a vector"
   ]
  },
  {
   "cell_type": "code",
   "execution_count": null,
   "metadata": {},
   "outputs": [],
   "source": [
    "vectors = []\n",
    "starting_length = len(G.edges)\n",
    "def vectorize_statistics(graph):\n",
    "    vector = [sum(dict(graph.degree()).values()) / len(graph), sum(dict(nx.closeness_centrality(graph)).values()) / len(graph), sum(dict(nx.betweenness_centrality(graph)).values())  / len(graph)]\n",
    "    vectors.append(vector)\n",
    "    \n",
    "vectorize_statistics(G)"
   ]
  },
  {
   "cell_type": "code",
   "execution_count": null,
   "metadata": {},
   "outputs": [],
   "source": [
    "print(vectors)"
   ]
  },
  {
   "cell_type": "code",
   "execution_count": null,
   "metadata": {},
   "outputs": [],
   "source": [
    "deg_centrality = nx.degree_centrality(G)\n",
    "\n",
    "print(sum(deg_centrality.values()) / len(deg_centrality))\n",
    "print(deg_centrality)"
   ]
  },
  {
   "cell_type": "markdown",
   "metadata": {},
   "source": [
    "### write a script that randomly removes one edge from the above graph Repeat the process a)-d)  until the number of edges in the graph is equal to one."
   ]
  },
  {
   "cell_type": "code",
   "execution_count": null,
   "metadata": {},
   "outputs": [],
   "source": [
    "# Define a function that randomly removes one edge from the graph\n",
    "def remove_edge(G):\n",
    "    \"\"\"\n",
    "    removes edges from the graph and then draws the graph and Calculate the degree of each node, \n",
    "    average degree of the graph and centrality measures .\n",
    "    \"\"\"\n",
    "    edges = list(G.edges())\n",
    "    #create random choice of edges\n",
    "    edge_to_remove = random.choice(edges)\n",
    "    #remove the edge\n",
    "    G.remove_edge(*edge_to_remove)\n",
    "    #display the graph\n",
    "    nx.draw(G, with_labels = True)\n",
    "    plt.show()\n",
    "    # Calculate the degree of each node\n",
    "    print(\"The degree of each node is: \",G.degree())\n",
    "    # Calculate the average degree of the graph\n",
    "    avg_degree = nx.average_degree_connectivity(G)\n",
    "    print('The average degree of the graph is ',avg_degree)\n",
    "    deg_centrality = nx.degree_centrality(G)\n",
    "    print('The degree of centrality:',deg_centrality)"
   ]
  },
  {
   "cell_type": "code",
   "execution_count": null,
   "metadata": {},
   "outputs": [],
   "source": [
    "n = G.number_of_edges()\n",
    "for i in range(n-1):\n",
    "    remove_edge(G)"
   ]
  },
  {
   "cell_type": "markdown",
   "metadata": {},
   "source": [
    "# Task 2\n",
    "\n",
    "Use the provided dataset karate_club_coords.pkl   \n",
    "\n",
    "  a) write a program that input the above dataset   \n",
    "  b) write a program that displays the network associated to this dataset  \n",
    "  c) calculate the density of each node and store them in an array vector  \n",
    "  d) display the nodes with the highest and smallest density value  \n",
    "  e) display the network of the graph containing only nodes whose density is higher than the average density of \n",
    "      the graph  \n",
    " f) calculate the various centrality measures of the newly generated graph  "
   ]
  },
  {
   "cell_type": "markdown",
   "metadata": {},
   "source": [
    "a) write a program that input the dataset "
   ]
  },
  {
   "cell_type": "code",
   "execution_count": 57,
   "metadata": {},
   "outputs": [
    {
     "name": "stdout",
     "output_type": "stream",
     "text": [
      "{'24': array([257.87969408, 318.49368742]), '25': array([446.11750059,  73.11363804]), '26': array([490.53962023, 151.34941744]), '27': array([310.9937593 , 316.88400474]), '20': array([231.27467138, 268.3554436 ]), '21': array([446.60109522, 386.22347982]), '22': array([411.12965804,  53.253833  ]), '23': array([500.        , 269.52685069]), '28': array([472.79527229, 110.9020759 ]), '29': array([149.03975494, 446.03988462]), '1': array([ 69.97107594, 159.0111701 ]), '3': array([157.90050621,   4.23543315]), '2': array([ 96.8218241 , 237.14728561]), '5': array([ 22.29884097, 325.62733401]), '4': array([121.2112242, 275.3350923]), '7': array([125.53235717,  25.74222818]), '6': array([152.65129782, 154.80775364]), '9': array([ 61.083021  , 394.28922573]), '8': array([208.45409923, 139.01263619]), '11': array([  4.99817603, 197.83222394]), '10': array([271.622609  , 400.39798242]), '13': array([183.36024879, 250.69609714]), '12': array([ 23.49922324, 146.13161611]), '15': array([351.3978527 , 380.30682475]), '14': array([385.91083978, 246.61821132]), '17': array([498.04235071, 227.35683114]), '16': array([389.64741232, 418.17465364]), '33': array([ 68.42167192, 107.69261345]), '32': array([  0.       , 246.1268852]), '31': array([358.57943742,   0.        ]), '30': array([181.74347221, 369.2749695 ]), '34': array([  6.7249014 , 292.06892106]), '19': array([474.8987866 , 336.44774558]), '18': array([409.029894  , 331.00542996])}\n"
     ]
    }
   ],
   "source": [
    "import pickle\n",
    "# Open the file for reading\n",
    "with open('karate_club_coords.pkl', 'rb') as f:\n",
    "    # Load the object from the file\n",
    "    my_object = pickle.load(f, encoding='latin1')\n",
    "# Use the object as needed\n",
    "print(my_object)"
   ]
  },
  {
   "cell_type": "markdown",
   "metadata": {},
   "source": [
    "b) write a program that displays the network associated to this dataset"
   ]
  },
  {
   "cell_type": "code",
   "execution_count": 61,
   "metadata": {},
   "outputs": [
    {
     "name": "stdout",
     "output_type": "stream",
     "text": [
      "Node Degree\n",
      "1 16\n",
      "2 9\n",
      "3 10\n",
      "4 6\n",
      "5 3\n",
      "6 4\n",
      "7 4\n",
      "8 4\n",
      "9 5\n",
      "10 2\n",
      "11 3\n",
      "12 1\n",
      "13 2\n",
      "14 5\n",
      "15 2\n",
      "16 2\n",
      "17 2\n",
      "18 2\n",
      "19 2\n",
      "20 3\n",
      "21 2\n",
      "22 2\n",
      "23 2\n",
      "24 5\n",
      "25 3\n",
      "26 3\n",
      "27 2\n",
      "28 4\n",
      "29 3\n",
      "30 4\n",
      "31 4\n",
      "32 6\n",
      "33 12\n",
      "34 17\n"
     ]
    },
    {
     "data": {
      "text/plain": [
       "<function matplotlib.pyplot.show(close=None, block=None)>"
      ]
     },
     "execution_count": 61,
     "metadata": {},
     "output_type": "execute_result"
    },
    {
     "data": {
      "image/png": "[encoded data removed]",
      "text/plain": [
       "<Figure size 432x288 with 1 Axes>"
      ]
     },
     "metadata": {},
     "output_type": "display_data"
    }
   ],
   "source": [
    "G = nx.karate_club_graph()\n",
    "G1 = nx.convert_node_labels_to_integers(G, first_label=1)\n",
    "G1 = nx.relabel_nodes(G1, lambda x: str(x))\n",
    "print(\"Node Degree\")\n",
    "for v in G1:\n",
    "    print('%s %s' % (v,G1.degree(v)))\n",
    "\n",
    "nx.draw_networkx(G1)\n",
    "plt.show"
   ]
  },
  {
   "cell_type": "markdown",
   "metadata": {},
   "source": [
    "  c) calculate the density of each node and store them in an array vector"
   ]
  },
  {
   "cell_type": "code",
   "execution_count": 62,
   "metadata": {},
   "outputs": [
    {
     "name": "stdout",
     "output_type": "stream",
     "text": [
      "{'1': 0.48484848484848486, '2': 0.2727272727272727, '3': 0.30303030303030304, '4': 0.18181818181818182, '5': 0.09090909090909091, '6': 0.12121212121212122, '7': 0.12121212121212122, '8': 0.12121212121212122, '9': 0.15151515151515152, '10': 0.06060606060606061, '11': 0.09090909090909091, '12': 0.030303030303030304, '13': 0.06060606060606061, '14': 0.15151515151515152, '15': 0.06060606060606061, '16': 0.06060606060606061, '17': 0.06060606060606061, '18': 0.06060606060606061, '19': 0.06060606060606061, '20': 0.09090909090909091, '21': 0.06060606060606061, '22': 0.06060606060606061, '23': 0.06060606060606061, '24': 0.15151515151515152, '25': 0.09090909090909091, '26': 0.09090909090909091, '27': 0.06060606060606061, '28': 0.12121212121212122, '29': 0.09090909090909091, '30': 0.12121212121212122, '31': 0.12121212121212122, '32': 0.18181818181818182, '33': 0.36363636363636365, '34': 0.5151515151515151}\n"
     ]
    }
   ],
   "source": [
    "# \n",
    "alt_density = nx.degree_centrality(G1)\n",
    "print(alt_density)"
   ]
  },
  {
   "cell_type": "markdown",
   "metadata": {},
   "source": [
    "  d) display the nodes with the highest and smallest density value"
   ]
  },
  {
   "cell_type": "code",
   "execution_count": null,
   "metadata": {},
   "outputs": [],
   "source": [
    "import numpy as np\n",
    "max_index = np.argwhere(node_densities == max(node_densities))\n",
    "min_index = np.argwhere(node_densities == min(node_densities))\n",
    "print(f'Indexes of Max: {max_index}')\n",
    "print(f'Indexes of Min: {min_index}')"
   ]
  }
 ],
 "metadata": {
  "interpreter": {
   "hash": "4ce9b237e59c375b3fb95cde342cdc546f7881910fb4b40e0596efd0360d2e64"
  },
  "kernelspec": {
   "display_name": "Python 3.8.8 ('base')",
   "language": "python",
   "name": "python3"
  },
  "language_info": {
   "codemirror_mode": {
    "name": "ipython",
    "version": 3
   },
   "file_extension": ".py",
   "mimetype": "text/x-python",
   "name": "python",
   "nbconvert_exporter": "python",
   "pygments_lexer": "ipython3",
   "version": "3.8.8"
  },
  "orig_nbformat": 4
 },
 "nbformat": 4,
 "nbformat_minor": 2
}
